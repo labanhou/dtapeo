{
 "cells": [
  {
   "cell_type": "code",
   "execution_count": 2,
   "metadata": {},
   "outputs": [],
   "source": [
    "import pandas as pd\n",
    "import folium\n",
    "bares = pd.read_csv('../dataset/bares_festa_dos_porcos_2022.csv')\n",
    "m = folium.Map(location=[43.3722289,-8.4228155], zoom_start=17)\n",
    "\n",
    "for i, bar in bares.iterrows():\n",
    "    folium.Marker(location=[bar.Coordenadas.split(',')[0],bar.Coordenadas.split(',')[1]],popup=bar.nome,icon=folium.Icon(color='orange',icon='beer', prefix='fa')).add_to(m)\n",
    "m.save('../docs/index.html')\n",
    "\n",
    "# https://fontawesome.com/search?p=1&q=beer&s=solid%2Cbrands\n",
    "# listaxe de icons"
   ]
  },
  {
   "cell_type": "code",
   "execution_count": null,
   "metadata": {},
   "outputs": [],
   "source": []
  }
 ],
 "metadata": {
  "interpreter": {
   "hash": "333f330947fb01d56a81d84a18d1c3d6776e74481d9d05d3d44523183feb1ee9"
  },
  "kernelspec": {
   "display_name": "Python 3.8.12 ('xeolocalizando')",
   "language": "python",
   "name": "python3"
  },
  "language_info": {
   "codemirror_mode": {
    "name": "ipython",
    "version": 3
   },
   "file_extension": ".py",
   "mimetype": "text/x-python",
   "name": "python",
   "nbconvert_exporter": "python",
   "pygments_lexer": "ipython3",
   "version": "3.8.12"
  },
  "orig_nbformat": 4
 },
 "nbformat": 4,
 "nbformat_minor": 2
}
